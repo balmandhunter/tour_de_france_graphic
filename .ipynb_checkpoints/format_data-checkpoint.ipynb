{
 "cells": [
  {
   "cell_type": "code",
   "execution_count": 163,
   "metadata": {
    "collapsed": true
   },
   "outputs": [],
   "source": [
    "import pandas as pd\n",
    "import numpy\n",
    "import scipy\n",
    "import string\n",
    "import csv"
   ]
  },
  {
   "cell_type": "markdown",
   "metadata": {},
   "source": [
    "###Import data and yield well-formatted rows."
   ]
  },
  {
   "cell_type": "code",
   "execution_count": 28,
   "metadata": {
    "collapsed": true
   },
   "outputs": [],
   "source": [
    "def flattened(list):\n",
    "    return [ b for a in list for b in a ]"
   ]
  },
  {
   "cell_type": "code",
   "execution_count": 179,
   "metadata": {
    "collapsed": false
   },
   "outputs": [],
   "source": [
    "f = open('data/tdf_data.csv')\n",
    "def tdf_table_rows():\n",
    "    for line in f:\n",
    "        line = [ e.split(',') for e in line.split(' ') ]\n",
    "        line = flattened(line)\n",
    "        line = [ string.rstrip(a,'\\n') for a in line ]\n",
    "        yield line"
   ]
  },
  {
   "cell_type": "code",
   "execution_count": 180,
   "metadata": {
    "collapsed": true
   },
   "outputs": [],
   "source": [
    "data = {}"
   ]
  },
  {
   "cell_type": "code",
   "execution_count": 181,
   "metadata": {
    "collapsed": false,
    "scrolled": true
   },
   "outputs": [],
   "source": [
    "for line in tdf_table_rows():\n",
    "    for year in line[1:]:\n",
    "        if year not in data:\n",
    "            data[year] = {}\n",
    "        if line[0] not in data[year]:\n",
    "            data[year][line[0]] = 0\n",
    "        data[year][line[0]] += 1"
   ]
  },
  {
   "cell_type": "markdown",
   "metadata": {},
   "source": [
    "###Get the year, country, and date out of the dictionary."
   ]
  },
  {
   "cell_type": "code",
   "execution_count": 157,
   "metadata": {
    "collapsed": false,
    "scrolled": false
   },
   "outputs": [],
   "source": [
    "year = []\n",
    "country = []\n",
    "num_riders = []\n",
    "for key,val in data.items():\n",
    "    for key2 in val:\n",
    "        year.append(key)\n",
    "        country.append(key2)\n",
    "        num_riders.append(val[key2])"
   ]
  },
  {
   "cell_type": "markdown",
   "metadata": {},
   "source": [
    "###Put the data into a dataframe."
   ]
  },
  {
   "cell_type": "code",
   "execution_count": 176,
   "metadata": {
    "collapsed": false
   },
   "outputs": [],
   "source": [
    "index = range(1,len(year)+1)\n",
    "columns = []\n",
    "df = pd.DataFrame(index=index, columns=columns)\n",
    "df['year'] = year\n",
    "df['country'] = country\n",
    "df['num_riders'] = num_riders"
   ]
  },
  {
   "cell_type": "code",
   "execution_count": 108,
   "metadata": {
    "collapsed": false
   },
   "outputs": [],
   "source": [
    "with open('tdf_data.csv', 'wb') as f:  # Just use 'w' mode in 3.x\n",
    "    w = csv.DictWriter(f, data.keys())\n",
    "    w.writeheader()\n",
    "    w.writerow(data)"
   ]
  },
  {
   "cell_type": "code",
   "execution_count": null,
   "metadata": {
    "collapsed": true
   },
   "outputs": [],
   "source": []
  }
 ],
 "metadata": {
  "kernelspec": {
   "display_name": "Python 2",
   "language": "python",
   "name": "python2"
  },
  "language_info": {
   "codemirror_mode": {
    "name": "ipython",
    "version": 2
   },
   "file_extension": ".py",
   "mimetype": "text/x-python",
   "name": "python",
   "nbconvert_exporter": "python",
   "pygments_lexer": "ipython2",
   "version": "2.7.10"
  }
 },
 "nbformat": 4,
 "nbformat_minor": 0
}
